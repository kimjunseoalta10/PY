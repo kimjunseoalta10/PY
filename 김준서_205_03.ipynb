{
  "nbformat": 4,
  "nbformat_minor": 0,
  "metadata": {
    "colab": {
      "provenance": [],
      "include_colab_link": true
    },
    "kernelspec": {
      "name": "python3",
      "display_name": "Python 3"
    },
    "language_info": {
      "name": "python"
    }
  },
  "cells": [
    {
      "cell_type": "markdown",
      "metadata": {
        "id": "view-in-github",
        "colab_type": "text"
      },
      "source": [
        "<a href=\"https://colab.research.google.com/github/kimjunseoalta10/PY/blob/main/%EA%B9%80%EC%A4%80%EC%84%9C_205_03.ipynb\" target=\"_parent\"><img src=\"https://colab.research.google.com/assets/colab-badge.svg\" alt=\"Open In Colab\"/></a>"
      ]
    },
    {
      "cell_type": "code",
      "execution_count": 1,
      "metadata": {
        "colab": {
          "base_uri": "https://localhost:8080/"
        },
        "id": "eP0t8MMjyVdh",
        "outputId": "a4d5d366-4982-440d-8c4a-920c479f8923"
      },
      "outputs": [
        {
          "output_type": "stream",
          "name": "stdout",
          "text": [
            "7\n",
            "3\n",
            "10\n",
            "2.5\n",
            "25\n",
            "2\n",
            "1\n"
          ]
        }
      ],
      "source": [
        "print(5+2)\n",
        "print(5-2)\n",
        "print(5*2)\n",
        "print(5/2)\n",
        "print(5**2)\n",
        "print(5//2)\n",
        "print(5%2)"
      ]
    },
    {
      "cell_type": "code",
      "source": [
        "x= 10 %3\n",
        "print(x)\n",
        "y=7//3\n",
        "print(y)"
      ],
      "metadata": {
        "colab": {
          "base_uri": "https://localhost:8080/"
        },
        "id": "tBmDTOWhynqP",
        "outputId": "878cc59a-28a9-4414-a316-b6f6378a85e7"
      },
      "execution_count": 2,
      "outputs": [
        {
          "output_type": "stream",
          "name": "stdout",
          "text": [
            "1\n",
            "2\n"
          ]
        }
      ]
    },
    {
      "cell_type": "code",
      "source": [
        "a =10\n",
        "b=20\n",
        "c=a+b*10-5/5\n",
        "print(c)"
      ],
      "metadata": {
        "colab": {
          "base_uri": "https://localhost:8080/"
        },
        "id": "C26edCkZzMOG",
        "outputId": "3a799f03-459a-4db9-b8f4-9f5b43e4349f"
      },
      "execution_count": 3,
      "outputs": [
        {
          "output_type": "stream",
          "name": "stdout",
          "text": [
            "209.0\n"
          ]
        }
      ]
    },
    {
      "cell_type": "code",
      "source": [
        "x=2**3\n",
        "print(x)\n",
        "y=10**4\n",
        "print(y)"
      ],
      "metadata": {
        "colab": {
          "base_uri": "https://localhost:8080/"
        },
        "id": "JIcT_galzMQN",
        "outputId": "db64b53a-a5ab-4bed-ff5e-cdb26d6f1b9a"
      },
      "execution_count": 4,
      "outputs": [
        {
          "output_type": "stream",
          "name": "stdout",
          "text": [
            "8\n",
            "10000\n"
          ]
        }
      ]
    },
    {
      "cell_type": "code",
      "source": [
        "hello = '안녕' * 5\n",
        "print(hello)"
      ],
      "metadata": {
        "colab": {
          "base_uri": "https://localhost:8080/"
        },
        "id": "jQjhHLTbzMSN",
        "outputId": "28e892cb-cbca-4988-94c4-11520e8b2990"
      },
      "execution_count": 5,
      "outputs": [
        {
          "output_type": "stream",
          "name": "stdout",
          "text": [
            "안녕안녕안녕안녕안녕\n"
          ]
        }
      ]
    },
    {
      "cell_type": "code",
      "source": [
        "s1=\"대한민국\"\n",
        "s2=\"만세\"\n",
        "print(s1+s2)\n",
        "print(s1*5)"
      ],
      "metadata": {
        "colab": {
          "base_uri": "https://localhost:8080/"
        },
        "id": "ELPDlftZzMUd",
        "outputId": "e950b565-3d24-446c-c0c0-410265b1c3b0"
      },
      "execution_count": 6,
      "outputs": [
        {
          "output_type": "stream",
          "name": "stdout",
          "text": [
            "대한민국만세\n",
            "대한민국대한민국대한민국대한민국대한민국\n"
          ]
        }
      ]
    },
    {
      "cell_type": "code",
      "source": [
        "print(\"korea+str(2021\")\n",
        "print(10+int(\"22\"))\n",
        "print(10+int(22.5))\n",
        "print(10+ int(float(22.5)))\n",
        "print(\"korea\"+2021)"
      ],
      "metadata": {
        "colab": {
          "base_uri": "https://localhost:8080/",
          "height": 284
        },
        "id": "gQq9Llz6z62d",
        "outputId": "15843af3-bc6d-470a-adec-b16986afceb1"
      },
      "execution_count": 7,
      "outputs": [
        {
          "output_type": "stream",
          "name": "stdout",
          "text": [
            "korea+str(2021\n",
            "32\n",
            "32\n",
            "32\n"
          ]
        },
        {
          "output_type": "error",
          "ename": "TypeError",
          "evalue": "ignored",
          "traceback": [
            "\u001b[0;31m---------------------------------------------------------------------------\u001b[0m",
            "\u001b[0;31mTypeError\u001b[0m                                 Traceback (most recent call last)",
            "\u001b[0;32m<ipython-input-7-f18fda907b03>\u001b[0m in \u001b[0;36m<module>\u001b[0;34m\u001b[0m\n\u001b[1;32m      3\u001b[0m \u001b[0mprint\u001b[0m\u001b[0;34m(\u001b[0m\u001b[0;36m10\u001b[0m\u001b[0;34m+\u001b[0m\u001b[0mint\u001b[0m\u001b[0;34m(\u001b[0m\u001b[0;36m22.5\u001b[0m\u001b[0;34m)\u001b[0m\u001b[0;34m)\u001b[0m\u001b[0;34m\u001b[0m\u001b[0;34m\u001b[0m\u001b[0m\n\u001b[1;32m      4\u001b[0m \u001b[0mprint\u001b[0m\u001b[0;34m(\u001b[0m\u001b[0;36m10\u001b[0m\u001b[0;34m+\u001b[0m \u001b[0mint\u001b[0m\u001b[0;34m(\u001b[0m\u001b[0mfloat\u001b[0m\u001b[0;34m(\u001b[0m\u001b[0;36m22.5\u001b[0m\u001b[0;34m)\u001b[0m\u001b[0;34m)\u001b[0m\u001b[0;34m)\u001b[0m\u001b[0;34m\u001b[0m\u001b[0;34m\u001b[0m\u001b[0m\n\u001b[0;32m----> 5\u001b[0;31m \u001b[0mprint\u001b[0m\u001b[0;34m(\u001b[0m\u001b[0;34m\"korea\"\u001b[0m\u001b[0;34m+\u001b[0m\u001b[0;36m2021\u001b[0m\u001b[0;34m)\u001b[0m\u001b[0;34m\u001b[0m\u001b[0;34m\u001b[0m\u001b[0m\n\u001b[0m",
            "\u001b[0;31mTypeError\u001b[0m: can only concatenate str (not \"int\") to str"
          ]
        }
      ]
    },
    {
      "cell_type": "code",
      "source": [
        "x=10\n",
        "x+=20\n",
        "print(x)"
      ],
      "metadata": {
        "colab": {
          "base_uri": "https://localhost:8080/"
        },
        "id": "N04iD_5t0U5b",
        "outputId": "cdfd4294-8d6d-4b5b-c690-0bf9644a7af8"
      },
      "execution_count": 8,
      "outputs": [
        {
          "output_type": "stream",
          "name": "stdout",
          "text": [
            "30\n"
          ]
        }
      ]
    },
    {
      "cell_type": "code",
      "source": [
        "a=5\n",
        "a=a+1\n",
        "print(a)\n",
        "\n",
        "a=5\n",
        "a+=1\n",
        "print(a)\n",
        "\n",
        "a-=5\n",
        "print(a)\n",
        "\n",
        "a*=2\n",
        "print(a)"
      ],
      "metadata": {
        "colab": {
          "base_uri": "https://localhost:8080/"
        },
        "id": "Joec4U360dFD",
        "outputId": "6c87c6a0-0460-4822-90df-dd3d90a65739"
      },
      "execution_count": 9,
      "outputs": [
        {
          "output_type": "stream",
          "name": "stdout",
          "text": [
            "6\n",
            "6\n",
            "1\n",
            "2\n"
          ]
        }
      ]
    },
    {
      "cell_type": "code",
      "source": [
        "x=3\n",
        "y=5\n",
        "x*=x+y\n",
        "print(x)"
      ],
      "metadata": {
        "colab": {
          "base_uri": "https://localhost:8080/"
        },
        "id": "_g-tMjtW0_2E",
        "outputId": "a7930582-c416-4ee3-a83b-67ae305aa90a"
      },
      "execution_count": 10,
      "outputs": [
        {
          "output_type": "stream",
          "name": "stdout",
          "text": [
            "24\n"
          ]
        }
      ]
    },
    {
      "cell_type": "code",
      "source": [
        "if 3<5 :\n",
        "  print(\"Hello World\")"
      ],
      "metadata": {
        "colab": {
          "base_uri": "https://localhost:8080/"
        },
        "id": "zfa_G_rU1HM8",
        "outputId": "1d99701d-d11e-4cbc-bc03-755c85ea3c66"
      },
      "execution_count": 11,
      "outputs": [
        {
          "output_type": "stream",
          "name": "stdout",
          "text": [
            "Hello World\n"
          ]
        }
      ]
    },
    {
      "cell_type": "code",
      "source": [
        "if 3>5 :\n",
        "  print(\"Hello World\")"
      ],
      "metadata": {
        "id": "0bFUC8c91OxD"
      },
      "execution_count": 12,
      "outputs": []
    },
    {
      "cell_type": "code",
      "source": [
        "age =int(input(\"몇살입니까?\"))\n",
        "if age<20 :\n",
        "  print(\"학생입니다\")"
      ],
      "metadata": {
        "colab": {
          "base_uri": "https://localhost:8080/"
        },
        "id": "8vZqswn-1Thb",
        "outputId": "97298953-6c63-4dbb-f95a-c6dd60290a87"
      },
      "execution_count": 13,
      "outputs": [
        {
          "output_type": "stream",
          "name": "stdout",
          "text": [
            "몇살입니까?18\n",
            "학생입니다\n"
          ]
        }
      ]
    },
    {
      "cell_type": "code",
      "source": [
        "age =15\n",
        "if age<20 :\n",
        "  print(\"학생입니다.\")\n",
        "  print(\"안녕히가세요.\")"
      ],
      "metadata": {
        "colab": {
          "base_uri": "https://localhost:8080/"
        },
        "id": "Cwtj3X9J1UIr",
        "outputId": "8ceb9e8a-908c-4230-ebcc-5d3f473e9723"
      },
      "execution_count": 14,
      "outputs": [
        {
          "output_type": "stream",
          "name": "stdout",
          "text": [
            "학생입니다.\n",
            "안녕히가세요.\n"
          ]
        }
      ]
    },
    {
      "cell_type": "code",
      "source": [
        "age =20\n",
        "if age<20 :\n",
        "  print(\"학생입니다.\")\n",
        "  print(\"안녕히가세요.\")"
      ],
      "metadata": {
        "id": "9bllepaV1X3M"
      },
      "execution_count": 15,
      "outputs": []
    },
    {
      "cell_type": "code",
      "source": [
        "print(3==5)\n",
        "print(3!=5)\n",
        "print(3<5)"
      ],
      "metadata": {
        "colab": {
          "base_uri": "https://localhost:8080/"
        },
        "id": "KvG97JDq1ZID",
        "outputId": "9d899670-8359-4da9-81e6-40a194fd351e"
      },
      "execution_count": 16,
      "outputs": [
        {
          "output_type": "stream",
          "name": "stdout",
          "text": [
            "False\n",
            "True\n",
            "True\n"
          ]
        }
      ]
    },
    {
      "cell_type": "code",
      "source": [
        "x=4\n",
        "print(1<x<5) "
      ],
      "metadata": {
        "colab": {
          "base_uri": "https://localhost:8080/"
        },
        "id": "ILFXVTXg1bQs",
        "outputId": "8c3567c0-312c-4528-d6e0-dc6fc4eb258c"
      },
      "execution_count": 17,
      "outputs": [
        {
          "output_type": "stream",
          "name": "stdout",
          "text": [
            "True\n"
          ]
        }
      ]
    },
    {
      "cell_type": "code",
      "source": [
        "print(3=>5)"
      ],
      "metadata": {
        "colab": {
          "base_uri": "https://localhost:8080/",
          "height": 137
        },
        "id": "n32YEQQQ1fCr",
        "outputId": "3c316ee2-df68-4697-c3e5-d4a7aa98d11f"
      },
      "execution_count": 18,
      "outputs": [
        {
          "output_type": "error",
          "ename": "SyntaxError",
          "evalue": "ignored",
          "traceback": [
            "\u001b[0;36m  File \u001b[0;32m\"<ipython-input-18-3138f8a6f292>\"\u001b[0;36m, line \u001b[0;32m1\u001b[0m\n\u001b[0;31m    print(3=>5)\u001b[0m\n\u001b[0m          ^\u001b[0m\n\u001b[0;31mSyntaxError\u001b[0m\u001b[0;31m:\u001b[0m expression cannot contain assignment, perhaps you meant \"==\"?\n"
          ]
        }
      ]
    },
    {
      "cell_type": "code",
      "source": [
        "country = \"Korea\"\n",
        "if country ==\"Korea\" :\n",
        "  print(\"한국\")"
      ],
      "metadata": {
        "colab": {
          "base_uri": "https://localhost:8080/"
        },
        "id": "-71I694n1qEc",
        "outputId": "1a7291ec-fdc5-4e5f-f5ab-dcdf8ba33666"
      },
      "execution_count": 19,
      "outputs": [
        {
          "output_type": "stream",
          "name": "stdout",
          "text": [
            "한국\n"
          ]
        }
      ]
    },
    {
      "cell_type": "code",
      "source": [
        "age = int(input(\"몇살입니까?\"))\n",
        "if age < 20 :\n",
        "  print(\"학생입니다.\")\n",
        "else :\n",
        "  print(\"성인입니다.\")"
      ],
      "metadata": {
        "colab": {
          "base_uri": "https://localhost:8080/"
        },
        "id": "c1_jTgis19WF",
        "outputId": "43fa357d-45ca-43f5-f650-ca86432b31e3"
      },
      "execution_count": 20,
      "outputs": [
        {
          "output_type": "stream",
          "name": "stdout",
          "text": [
            "몇살입니까?18\n",
            "학생입니다.\n"
          ]
        }
      ]
    },
    {
      "cell_type": "code",
      "source": [
        "password = input(\"암호입력\")\n",
        "if password == \"암호\" :\n",
        "  print(\"암호이다.\")\n",
        "else :\n",
        "  print(\"암호가 아니다\")"
      ],
      "metadata": {
        "colab": {
          "base_uri": "https://localhost:8080/"
        },
        "id": "MFMuW-G82irc",
        "outputId": "2eedc6da-595a-438e-eba2-c5b162ba6cd1"
      },
      "execution_count": 21,
      "outputs": [
        {
          "output_type": "stream",
          "name": "stdout",
          "text": [
            "암호입력452\n",
            "암호가 아니다\n"
          ]
        }
      ]
    },
    {
      "cell_type": "code",
      "source": [
        "a=int(input(\"숫자입력: \"))\n",
        "if(a==5):\n",
        "  print(\"5이다\")\n",
        "if(a>5):\n",
        "  print(\"5보다 크다\")\n",
        "if(a<5):\n",
        "  print(\"5보다 작다\")"
      ],
      "metadata": {
        "colab": {
          "base_uri": "https://localhost:8080/"
        },
        "id": "8lT0uDl720Rb",
        "outputId": "91feb769-db00-43d8-e1cc-7b2cd22c11cf"
      },
      "execution_count": 25,
      "outputs": [
        {
          "output_type": "stream",
          "name": "stdout",
          "text": [
            "숫자입력: 5\n",
            "5 이다\n"
          ]
        }
      ]
    },
    {
      "cell_type": "code",
      "source": [
        "a=int(input(\"투입한 돈:\"))\n",
        "b=int(input(\"물건 값\"))\n",
        "c=a-b\n",
        "print(\"거스름돈: \", c)\n",
        "d=c//500\n",
        "print(\"500원 동전의 개수: \", d)\n",
        "e=c%500//100\n",
        "print(\"100원 동전의 개수: \", e)"
      ],
      "metadata": {
        "colab": {
          "base_uri": "https://localhost:8080/"
        },
        "id": "-wIs5T273hkV",
        "outputId": "b6110941-b529-4c59-e57b-d5144e45c37c"
      },
      "execution_count": 26,
      "outputs": [
        {
          "output_type": "stream",
          "name": "stdout",
          "text": [
            "투입한 돈:2500\n",
            "물건 값300\n",
            "거스름돈:  2200\n",
            "500원 동전의 개수:  4\n",
            "100원 동전의 개수:  2\n"
          ]
        }
      ]
    },
    {
      "cell_type": "code",
      "source": [
        "a=int(input(\"첫번째 숫자를 입력하세요:\"))\n",
        "b=int(input(\"두번째 숫자를 입력하세요:\"))\n",
        "if(a>b) :\n",
        "  c=a-b\n",
        "  print(c)\n",
        "if(a<b) :\n",
        "  c=b-a\n",
        "  print(c)"
      ],
      "metadata": {
        "colab": {
          "base_uri": "https://localhost:8080/"
        },
        "id": "eRphjuR66dDC",
        "outputId": "e641389d-e2ad-402e-a0d3-39eafe698e5b"
      },
      "execution_count": 28,
      "outputs": [
        {
          "output_type": "stream",
          "name": "stdout",
          "text": [
            "첫번째 숫자를 입력하세요:2\n",
            "두번째 숫자를 입력하세요:5\n",
            "3\n"
          ]
        }
      ]
    },
    {
      "cell_type": "code",
      "source": [
        "a=int(input(\"1(주간 근무) 또는 2(야간근무)을 입력해주세요\"))\n",
        "b=int(input(\"근무 시간을 입력해주세요 :\"))\n",
        "if(a==1):\n",
        "  c=b*9500\n",
        "  print(b,\"시간 동안 일한 주간 급여는\", c,\"원입니다\", sep=\"\")\n",
        "if(a==2):\n",
        "  c=b*9500*3//2\n",
        "  print(b,\"시간 동안 일한 주간 급여는 \", c,\"원 입니다\", sep=\"\")"
      ],
      "metadata": {
        "colab": {
          "base_uri": "https://localhost:8080/"
        },
        "id": "tnQERkWC7OCK",
        "outputId": "99c98942-2730-4338-91ee-b02bc4324cde"
      },
      "execution_count": 31,
      "outputs": [
        {
          "output_type": "stream",
          "name": "stdout",
          "text": [
            "1(주간 근무) 또는 2(야간근무)을 입력해주세요2\n",
            "근무 시간을 입력해주세요 :55\n",
            "55시간 동안 일한 주간 급여는 783750원 입니다\n"
          ]
        }
      ]
    },
    {
      "cell_type": "code",
      "source": [
        "a=input(\"이름을 입력하세요: \")\n",
        "b=int(input(\"일주일간 일한 시간을 입력하세요: \"))\n",
        "c=0\n",
        "if(b>40) :\n",
        "  c=b-40\n",
        "  print(\"초과 시간: \", c)\n",
        "sum=40*12000+c*12000*3//2\n",
        "print(a,\"님의 주급은\", sum,\"입니다\")"
      ],
      "metadata": {
        "colab": {
          "base_uri": "https://localhost:8080/"
        },
        "id": "YMlGRZrc8pCT",
        "outputId": "6463c08b-477f-45a3-c500-a55f1d66ea2a"
      },
      "execution_count": 39,
      "outputs": [
        {
          "output_type": "stream",
          "name": "stdout",
          "text": [
            "이름을 입력하세요: ㅇ\n",
            "일주일간 일한 시간을 입력하세요: 45\n",
            "초과 시간:  5\n",
            "ㅇ 님의 주급은 570000 입니다\n"
          ]
        }
      ]
    },
    {
      "cell_type": "code",
      "source": [
        "print ((3==3) and (4!=3))\n",
        "print((3==3)or (4!=3))\n",
        "print(not(4!=3))"
      ],
      "metadata": {
        "colab": {
          "base_uri": "https://localhost:8080/"
        },
        "id": "OCagPWgQ95I1",
        "outputId": "af62e5c9-6c7e-43e3-e87b-de8374829961"
      },
      "execution_count": 35,
      "outputs": [
        {
          "output_type": "stream",
          "name": "stdout",
          "text": [
            "True\n",
            "True\n",
            "False\n"
          ]
        }
      ]
    },
    {
      "cell_type": "code",
      "source": [
        "a=int(input(\"숫자를 입력하세요: \"))\n",
        "if(a>0):\n",
        "  print(\"양수입니다.\")\n",
        "else :\n",
        "  print(\"0 또는 음수입니다.\")"
      ],
      "metadata": {
        "colab": {
          "base_uri": "https://localhost:8080/"
        },
        "id": "uplxMb4z-U4J",
        "outputId": "8cf39d0a-3176-463c-d227-d4e8eb7e7a92"
      },
      "execution_count": 37,
      "outputs": [
        {
          "output_type": "stream",
          "name": "stdout",
          "text": [
            "숫자를 입력하세요: -100\n",
            "0 또는 음수입니다.\n"
          ]
        }
      ]
    },
    {
      "cell_type": "code",
      "source": [],
      "metadata": {
        "id": "PCefVVMb-qyp"
      },
      "execution_count": null,
      "outputs": []
    }
  ]
}