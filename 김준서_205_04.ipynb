{
  "nbformat": 4,
  "nbformat_minor": 0,
  "metadata": {
    "colab": {
      "provenance": [],
      "include_colab_link": true
    },
    "kernelspec": {
      "name": "python3",
      "display_name": "Python 3"
    },
    "language_info": {
      "name": "python"
    }
  },
  "cells": [
    {
      "cell_type": "markdown",
      "metadata": {
        "id": "view-in-github",
        "colab_type": "text"
      },
      "source": [
        "<a href=\"https://colab.research.google.com/github/kimjunseoalta10/PY/blob/main/%EA%B9%80%EC%A4%80%EC%84%9C_205_04.ipynb\" target=\"_parent\"><img src=\"https://colab.research.google.com/assets/colab-badge.svg\" alt=\"Open In Colab\"/></a>"
      ]
    },
    {
      "cell_type": "code",
      "execution_count": 1,
      "metadata": {
        "colab": {
          "base_uri": "https://localhost:8080/"
        },
        "id": "WCZfmo2GUEwH",
        "outputId": "ec1c4e89-acdb-48c4-b653-a1e20d3d52a2"
      },
      "outputs": [
        {
          "output_type": "stream",
          "name": "stdout",
          "text": [
            "2023-03-30 11:19:34.628789+09:00\n",
            "2023\n",
            "3\n",
            "30\n",
            "11\n",
            "19\n",
            "34\n"
          ]
        }
      ],
      "source": [
        "import datetime\n",
        "from pytz import timezone\n",
        "now = datetime.datetime.now(timezone('Asia/Seoul'))\n",
        "print(now)\n",
        "print(now.year)\n",
        "print(now.month)\n",
        "print(now.day)\n",
        "print(now.hour)\n",
        "print(now.minute)\n",
        "print(now.second)"
      ]
    },
    {
      "cell_type": "code",
      "source": [
        "import datetime\n",
        "from pytz import timezone\n",
        "now=datetime.datetime.now(timezone('Asia/Seoul'))\n",
        "if(now.hour<12) :\n",
        "  print(\"현재시간은\",now.hour,\"시\",now.minute,\"분으로 오전입니다.\")\n",
        "else :\n",
        "  print(\"현재시간은\",now.hour,\"시\",now.minute,\"분으로 오후입니다.\")"
      ],
      "metadata": {
        "colab": {
          "base_uri": "https://localhost:8080/"
        },
        "id": "G7i6MKQKUGHL",
        "outputId": "cab6aa18-0c8f-4f91-fde3-b06f77820237"
      },
      "execution_count": 2,
      "outputs": [
        {
          "output_type": "stream",
          "name": "stdout",
          "text": [
            "현재시간은 11 시 22 분으로 오전입니다.\n"
          ]
        }
      ]
    },
    {
      "cell_type": "code",
      "source": [
        "import datetime\n",
        "from pytz import timezone\n",
        "now=datetime.datetime.now(timezone('Asia/Seoul'))\n",
        "if 3<=now.month<=5 :\n",
        "  print(\"이번 달은\",now.month,\"월로 봄입니다!\")\n",
        "elif 6<=now.month<=8 :\n",
        "  print(\"이번 달은\",now.month,\"월로 여름입니다!\")\n",
        "elif 9<=now.month<=11 :\n",
        "  print(\"이번 달은\",now.month,\"월로 가을입니다!\")\n",
        "else :\n",
        "  print(\"이번 달은\",now.month,\"월로 겨울입니다!\")"
      ],
      "metadata": {
        "colab": {
          "base_uri": "https://localhost:8080/"
        },
        "id": "xH9B3i9RUGR1",
        "outputId": "c1724f1b-0cba-4fd5-c9ad-04717acabee8"
      },
      "execution_count": 4,
      "outputs": [
        {
          "output_type": "stream",
          "name": "stdout",
          "text": [
            "이번 달은 3 월로 봄입니다!\n"
          ]
        }
      ]
    }
  ]
}